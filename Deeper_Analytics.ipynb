{
  "nbformat": 4,
  "nbformat_minor": 2,
  "metadata": {
    "language_info": {
      "name": "python"
    },
    "kernelspec": {
      "name": "synapse_pyspark",
      "display_name": "python"
    },
    "description": null,
    "save_output": true,
    "synapse_widget": {
      "version": "0.1",
      "state": {}
    }
  },
  "cells": [
    {
      "cell_type": "code",
      "execution_count": 16,
      "outputs": [
        {
          "output_type": "display_data",
          "data": {
            "application/vnd.livy.statement-meta+json": {
              "spark_pool": "mysparkpool",
              "statement_id": 16,
              "statement_ids": [
                16
              ],
              "state": "finished",
              "livy_statement_state": "available",
              "spark_jobs": null,
              "session_id": "0",
              "normalized_state": "finished",
              "queued_time": "2025-05-09T21:58:48.6125802Z",
              "session_start_time": null,
              "execution_start_time": "2025-05-09T21:58:48.6138359Z",
              "execution_finish_time": "2025-05-09T21:58:49.7809546Z",
              "parent_msg_id": "65e84d72-c6a6-4ee5-b556-6c4bd0252e38"
            },
            "text/plain": "StatementMeta(mysparkpool, 0, 16, Finished, Available, Finished)"
          },
          "metadata": {}
        },
        {
          "output_type": "stream",
          "name": "stdout",
          "text": [
            "+--------+-------------+-------+-----------+----------+\n|  amount|oldbalanceOrg|isFraud|fraud_score|risk_level|\n+--------+-------------+-------+-----------+----------+\n| 9839.64|     170136.0|      0|          1|    NORMAL|\n| 1864.28|      21249.0|      0|          1|    NORMAL|\n|   181.0|        181.0|      1|          4|    NORMAL|\n|   181.0|        181.0|      1|          4|    NORMAL|\n|11668.14|      41554.0|      0|          1|      HIGH|\n| 7817.71|      53860.0|      0|          1|    NORMAL|\n| 7107.77|     183195.0|      0|          1|    NORMAL|\n| 7861.64|    176087.23|      0|          1|    NORMAL|\n| 4024.36|       2671.0|      0|          1|    NORMAL|\n| 5337.77|      41720.0|      0|          1|    NORMAL|\n+--------+-------------+-------+-----------+----------+\nonly showing top 10 rows\n\n"
          ]
        }
      ],
      "metadata": {},
      "source": [
        "from pyspark.sql.functions import when\n",
        "\n",
        "df_risk = df_cleaned.withColumn(\n",
        "    \"fraud_score\",\n",
        "    when((col(\"amount\") > 20000) & (col(\"oldbalanceOrg\") < 1000), 3)\n",
        "    .when(col(\"amount\") > 15000, 2)\n",
        "    .when(col(\"isFraud\") == 1, 4)\n",
        "    .otherwise(1)\n",
        ")\n",
        "\n",
        "df_risk.select(\"amount\", \"oldbalanceOrg\", \"isFraud\", \"fraud_score\", \"risk_level\").show(10)\n",
        ""
      ]
    },
    {
      "cell_type": "code",
      "execution_count": 17,
      "outputs": [
        {
          "output_type": "display_data",
          "data": {
            "application/vnd.livy.statement-meta+json": {
              "spark_pool": "mysparkpool",
              "statement_id": 17,
              "statement_ids": [
                17
              ],
              "state": "finished",
              "livy_statement_state": "available",
              "spark_jobs": null,
              "session_id": "0",
              "normalized_state": "finished",
              "queued_time": "2025-05-09T21:59:00.9507701Z",
              "session_start_time": null,
              "execution_start_time": "2025-05-09T21:59:00.9519342Z",
              "execution_finish_time": "2025-05-09T21:59:16.3683514Z",
              "parent_msg_id": "3aae9a3c-12a7-4eac-a8ee-a5120a33d4fe"
            },
            "text/plain": "StatementMeta(mysparkpool, 0, 17, Finished, Available, Finished)"
          },
          "metadata": {}
        }
      ],
      "metadata": {},
      "source": [
        "df_risk.write \\\n",
        "    .mode(\"overwrite\") \\\n",
        "    .format(\"delta\") \\\n",
        "    .saveAsTable(\"financial.transactions_with_risk_score\")\n",
        ""
      ]
    },
    {
      "cell_type": "code",
      "execution_count": 18,
      "outputs": [
        {
          "output_type": "display_data",
          "data": {
            "application/vnd.livy.statement-meta+json": {
              "spark_pool": "mysparkpool",
              "statement_id": 18,
              "statement_ids": [
                18
              ],
              "state": "finished",
              "livy_statement_state": "available",
              "spark_jobs": null,
              "session_id": "0",
              "normalized_state": "finished",
              "queued_time": "2025-05-09T22:00:37.9113428Z",
              "session_start_time": null,
              "execution_start_time": "2025-05-09T22:00:37.9125642Z",
              "execution_finish_time": "2025-05-09T22:00:43.583563Z",
              "parent_msg_id": "ba345152-f46e-4c64-86c0-c0a8b5d6a72c"
            },
            "text/plain": "StatementMeta(mysparkpool, 0, 18, Finished, Available, Finished)"
          },
          "metadata": {}
        },
        {
          "output_type": "stream",
          "name": "stdout",
          "text": [
            "+------------+\n|total_frauds|\n+------------+\n|        8213|\n+------------+\n\n"
          ]
        }
      ],
      "metadata": {},
      "source": [
        "#Analytics with Spark SQL\n",
        "\n",
        "#1.Total Fraud Transactions\n",
        "spark.sql(\"\"\"\n",
        "SELECT COUNT(*) AS total_frauds\n",
        "FROM financial.transactions_with_risk_score\n",
        "WHERE isFraud = 1\n",
        "\"\"\").show()\n",
        ""
      ]
    },
    {
      "cell_type": "code",
      "execution_count": 19,
      "outputs": [
        {
          "output_type": "display_data",
          "data": {
            "application/vnd.livy.statement-meta+json": {
              "spark_pool": "mysparkpool",
              "statement_id": 19,
              "statement_ids": [
                19
              ],
              "state": "finished",
              "livy_statement_state": "available",
              "spark_jobs": null,
              "session_id": "0",
              "normalized_state": "finished",
              "queued_time": "2025-05-09T22:01:52.6761027Z",
              "session_start_time": null,
              "execution_start_time": "2025-05-09T22:01:52.6773578Z",
              "execution_finish_time": "2025-05-09T22:01:55.3241188Z",
              "parent_msg_id": "5bb1a712-99fb-45f9-8f1d-4f8a1d0b4088"
            },
            "text/plain": "StatementMeta(mysparkpool, 0, 19, Finished, Available, Finished)"
          },
          "metadata": {}
        },
        {
          "output_type": "stream",
          "name": "stdout",
          "text": [
            "+-----------+----------+\n|   nameOrig|total_lost|\n+-----------+----------+\n|C1057439889|     1.0E7|\n| C576718894|     1.0E7|\n|C1751546135|     1.0E7|\n|C1208192074|     1.0E7|\n|C1879989290|     1.0E7|\n|C1421664654|     1.0E7|\n| C884104189|     1.0E7|\n| C618976547|     1.0E7|\n|C1036572575|     1.0E7|\n|C1577275521|     1.0E7|\n+-----------+----------+\n\n"
          ]
        }
      ],
      "metadata": {},
      "source": [
        "#Top 10 Originators by Fraud Amount\n",
        "\n",
        "spark.sql(\"\"\"\n",
        "SELECT nameOrig, SUM(amount) AS total_lost\n",
        "FROM financial.transactions_with_risk_score\n",
        "WHERE isFraud = 1\n",
        "GROUP BY nameOrig\n",
        "ORDER BY total_lost DESC\n",
        "LIMIT 10\n",
        "\"\"\").show()\n",
        ""
      ]
    },
    {
      "cell_type": "code",
      "execution_count": 20,
      "outputs": [
        {
          "output_type": "display_data",
          "data": {
            "application/vnd.livy.statement-meta+json": {
              "spark_pool": "mysparkpool",
              "statement_id": 20,
              "statement_ids": [
                20
              ],
              "state": "finished",
              "livy_statement_state": "available",
              "spark_jobs": null,
              "session_id": "0",
              "normalized_state": "finished",
              "queued_time": "2025-05-09T22:02:30.0257344Z",
              "session_start_time": null,
              "execution_start_time": "2025-05-09T22:02:30.0269546Z",
              "execution_finish_time": "2025-05-09T22:02:34.043567Z",
              "parent_msg_id": "38f44daa-18bd-40e2-8be6-21c1702e461d"
            },
            "text/plain": "StatementMeta(mysparkpool, 0, 20, Finished, Available, Finished)"
          },
          "metadata": {}
        },
        {
          "output_type": "stream",
          "name": "stdout",
          "text": [
            "+-----------+------------+\n|fraud_score|transactions|\n+-----------+------------+\n|          4|         372|\n|          3|     1629199|\n|          2|     3021429|\n|          1|     1711620|\n+-----------+------------+\n\n"
          ]
        }
      ],
      "metadata": {},
      "source": [
        "# Fraud Score Distribution\n",
        "\n",
        "spark.sql(\"\"\"\n",
        "SELECT fraud_score, COUNT(*) AS transactions\n",
        "FROM financial.transactions_with_risk_score\n",
        "GROUP BY fraud_score\n",
        "ORDER BY fraud_score DESC\n",
        "\"\"\").show()\n",
        ""
      ]
    },
    {
      "cell_type": "code",
      "execution_count": 21,
      "outputs": [
        {
          "output_type": "display_data",
          "data": {
            "application/vnd.livy.statement-meta+json": {
              "spark_pool": "mysparkpool",
              "statement_id": 21,
              "statement_ids": [
                21
              ],
              "state": "finished",
              "livy_statement_state": "available",
              "spark_jobs": null,
              "session_id": "0",
              "normalized_state": "finished",
              "queued_time": "2025-05-09T22:03:08.2263882Z",
              "session_start_time": null,
              "execution_start_time": "2025-05-09T22:03:08.2276477Z",
              "execution_finish_time": "2025-05-09T22:03:12.8635251Z",
              "parent_msg_id": "91b9fb8c-9f53-4d58-9a33-0b656987f5ef"
            },
            "text/plain": "StatementMeta(mysparkpool, 0, 21, Finished, Available, Finished)"
          },
          "metadata": {}
        },
        {
          "output_type": "stream",
          "name": "stdout",
          "text": [
            "+----+---------------+\n|step|high_risk_count|\n+----+---------------+\n|   1|           1367|\n|   2|            518|\n|   3|            324|\n|   4|            269|\n|   5|            286|\n|   6|           1109|\n|   7|           3907|\n|   8|          14980|\n|   9|          30523|\n|  10|          28615|\n|  11|          30260|\n|  12|          29702|\n|  13|          30932|\n|  14|          33212|\n|  15|          36329|\n|  16|          35089|\n|  17|          35937|\n|  18|          39980|\n|  19|          40496|\n|  20|          30537|\n+----+---------------+\nonly showing top 20 rows\n\n"
          ]
        }
      ],
      "metadata": {},
      "source": [
        "#High-Risk Transactions Over Time\n",
        "\n",
        "spark.sql(\"\"\"\n",
        "SELECT step, COUNT(*) AS high_risk_count\n",
        "FROM financial.transactions_with_risk_score\n",
        "WHERE risk_level = 'HIGH'\n",
        "GROUP BY step\n",
        "ORDER BY step\n",
        "\"\"\").show()\n",
        ""
      ]
    }
  ]
}