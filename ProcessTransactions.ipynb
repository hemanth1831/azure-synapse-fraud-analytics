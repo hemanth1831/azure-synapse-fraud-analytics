{
  "nbformat": 4,
  "nbformat_minor": 2,
  "metadata": {
    "language_info": {
      "name": "python"
    },
    "kernelspec": {
      "name": "synapse_pyspark",
      "display_name": "python"
    },
    "description": null,
    "save_output": true,
    "synapse_widget": {
      "version": "0.1",
      "state": {}
    }
  },
  "cells": [
    {
      "cell_type": "code",
      "execution_count": 26,
      "outputs": [
        {
          "output_type": "display_data",
          "data": {
            "application/vnd.livy.statement-meta+json": {
              "spark_pool": "mysparkpool",
              "statement_id": 6,
              "statement_ids": [
                6
              ],
              "state": "finished",
              "livy_statement_state": "available",
              "spark_jobs": null,
              "session_id": "1",
              "normalized_state": "finished",
              "queued_time": "2025-05-09T23:22:20.4944742Z",
              "session_start_time": null,
              "execution_start_time": "2025-05-09T23:27:33.3966416Z",
              "execution_finish_time": "2025-05-09T23:27:42.1118178Z",
              "parent_msg_id": "35cf51cd-a5ad-47ad-afd3-543fa51ed6eb"
            },
            "text/plain": "StatementMeta(mysparkpool, 1, 6, Finished, Available, Finished)"
          },
          "metadata": {}
        },
        {
          "output_type": "stream",
          "name": "stdout",
          "text": [
            "+----+--------+--------+-----------+-------------+--------------+-----------+--------------+--------------+-------+--------------+\n|step|    type|  amount|   nameOrig|oldbalanceOrg|newbalanceOrig|   nameDest|oldbalanceDest|newbalanceDest|isFraud|isFlaggedFraud|\n+----+--------+--------+-----------+-------------+--------------+-----------+--------------+--------------+-------+--------------+\n|   1| PAYMENT| 9839.64|C1231006815|     170136.0|     160296.36|M1979787155|           0.0|           0.0|      0|             0|\n|   1| PAYMENT| 1864.28|C1666544295|      21249.0|      19384.72|M2044282225|           0.0|           0.0|      0|             0|\n|   1|TRANSFER|   181.0|C1305486145|        181.0|           0.0| C553264065|           0.0|           0.0|      1|             0|\n|   1|CASH_OUT|   181.0| C840083671|        181.0|           0.0|  C38997010|       21182.0|           0.0|      1|             0|\n|   1| PAYMENT|11668.14|C2048537720|      41554.0|      29885.86|M1230701703|           0.0|           0.0|      0|             0|\n+----+--------+--------+-----------+-------------+--------------+-----------+--------------+--------------+-------+--------------+\nonly showing top 5 rows\n\n"
          ]
        }
      ],
      "metadata": {},
      "source": [
        "#path to read from ADLS Gen2\n",
        "file_path = \"abfss://users@datalakefinanceanalytics.dfs.core.windows.net/raw/transactions/PS_20174392719_1491204439457_log.csv\"\n",
        "\n",
        "df = spark.read.csv(file_path, header=True, inferSchema=True)\n",
        "df.show(5)\n",
        ""
      ]
    },
    {
      "cell_type": "code",
      "execution_count": 27,
      "outputs": [
        {
          "output_type": "display_data",
          "data": {
            "application/vnd.livy.statement-meta+json": {
              "spark_pool": "mysparkpool",
              "statement_id": 7,
              "statement_ids": [
                7
              ],
              "state": "finished",
              "livy_statement_state": "available",
              "spark_jobs": null,
              "session_id": "1",
              "normalized_state": "finished",
              "queued_time": "2025-05-09T23:22:20.4951264Z",
              "session_start_time": null,
              "execution_start_time": "2025-05-09T23:27:42.1270461Z",
              "execution_finish_time": "2025-05-09T23:27:42.7389949Z",
              "parent_msg_id": "6ef3a86f-51d0-47e3-8288-a028c95f10ff"
            },
            "text/plain": "StatementMeta(mysparkpool, 1, 7, Finished, Available, Finished)"
          },
          "metadata": {}
        },
        {
          "output_type": "stream",
          "name": "stdout",
          "text": [
            "+--------+--------+----------+\n|    type|  amount|risk_level|\n+--------+--------+----------+\n| PAYMENT| 9839.64|    NORMAL|\n| PAYMENT| 1864.28|    NORMAL|\n|TRANSFER|   181.0|    NORMAL|\n|CASH_OUT|   181.0|    NORMAL|\n| PAYMENT|11668.14|      HIGH|\n| PAYMENT| 7817.71|    NORMAL|\n| PAYMENT| 7107.77|    NORMAL|\n| PAYMENT| 7861.64|    NORMAL|\n| PAYMENT| 4024.36|    NORMAL|\n|   DEBIT| 5337.77|    NORMAL|\n+--------+--------+----------+\nonly showing top 10 rows\n\n"
          ]
        }
      ],
      "metadata": {},
      "source": [
        "from pyspark.sql.functions import when, col\n",
        "\n",
        "# Add risk_level column based on amount\n",
        "df_cleaned = df.withColumn(\n",
        "    \"risk_level\",\n",
        "    when(col(\"amount\") > 10000, \"HIGH\").otherwise(\"NORMAL\")\n",
        ")\n",
        "\n",
        "df_cleaned.select(\"type\", \"amount\", \"risk_level\").show(10)\n",
        ""
      ]
    },
    {
      "cell_type": "code",
      "execution_count": 28,
      "outputs": [
        {
          "output_type": "display_data",
          "data": {
            "application/vnd.livy.statement-meta+json": {
              "spark_pool": "mysparkpool",
              "statement_id": 8,
              "statement_ids": [
                8
              ],
              "state": "finished",
              "livy_statement_state": "available",
              "spark_jobs": null,
              "session_id": "1",
              "normalized_state": "finished",
              "queued_time": "2025-05-09T23:22:20.495711Z",
              "session_start_time": null,
              "execution_start_time": "2025-05-09T23:27:42.7517399Z",
              "execution_finish_time": "2025-05-09T23:27:42.9856726Z",
              "parent_msg_id": "37589e83-222d-4834-a7fd-c994f8f90aed"
            },
            "text/plain": "StatementMeta(mysparkpool, 1, 8, Finished, Available, Finished)"
          },
          "metadata": {}
        },
        {
          "output_type": "execute_result",
          "data": {
            "text/plain": "DataFrame[]"
          },
          "execution_count": 17,
          "metadata": {}
        }
      ],
      "metadata": {},
      "source": [
        "#saving as Spark Delta Table\n",
        "spark.sql(\"CREATE DATABASE IF NOT EXISTS financial\")\n",
        ""
      ]
    },
    {
      "cell_type": "code",
      "execution_count": 29,
      "outputs": [
        {
          "output_type": "display_data",
          "data": {
            "application/vnd.livy.statement-meta+json": {
              "spark_pool": "mysparkpool",
              "statement_id": 9,
              "statement_ids": [
                9
              ],
              "state": "finished",
              "livy_statement_state": "available",
              "spark_jobs": null,
              "session_id": "1",
              "normalized_state": "finished",
              "queued_time": "2025-05-09T23:22:20.4962037Z",
              "session_start_time": null,
              "execution_start_time": "2025-05-09T23:27:42.9979987Z",
              "execution_finish_time": "2025-05-09T23:28:02.9299221Z",
              "parent_msg_id": "651c8894-d43d-4a78-8fef-61cd0c5bac9c"
            },
            "text/plain": "StatementMeta(mysparkpool, 1, 9, Finished, Available, Finished)"
          },
          "metadata": {}
        }
      ],
      "metadata": {},
      "source": [
        "df_cleaned.write \\\n",
        "    .mode(\"overwrite\") \\\n",
        "    .format(\"delta\") \\\n",
        "    .saveAsTable(\"financial.cleaned_transactions\")\n",
        ""
      ]
    }
  ]
}